{
  "cells": [
    {
      "cell_type": "markdown",
      "metadata": {
        "id": "7I2lRywFOyAE"
      },
      "source": [
        "# 🧬 Algoritmo Genético\n",
        "## 📚 Importação das bibliotecas"
      ]
    },
    {
      "cell_type": "code",
      "execution_count": null,
      "metadata": {
        "id": "yg7ODuObLXXw"
      },
      "outputs": [],
      "source": [
        "import random\n",
        "import numpy as np\n",
        "import matplotlib.pyplot as plt"
      ]
    },
    {
      "cell_type": "markdown",
      "metadata": {
        "id": "kSISo3F-YKlf"
      },
      "source": [
        "## 🎯 Função objetivo"
      ]
    },
    {
      "cell_type": "code",
      "execution_count": 2,
      "metadata": {
        "id": "y16q0MQ5Li6P"
      },
      "outputs": [],
      "source": [
        "def f(x):\n",
        "    freq = 0.9\n",
        "    coef = 0.1\n",
        "    y = 0\n",
        "    nvar = len(x)\n",
        "    for i in range(nvar):\n",
        "        y += np.sin(freq*x[i]) + coef*x[i]*x[i]\n",
        "    return y"
      ]
    },
    {
      "cell_type": "code",
      "execution_count": 3,
      "metadata": {
        "colab": {
          "base_uri": "https://localhost:8080/",
          "height": 465
        },
        "id": "TH0bV8iVLk33",
        "outputId": "282687c1-8cc3-4d1e-9876-6090182781f8"
      },
      "outputs": [
        {
          "name": "stdout",
          "output_type": "stream",
          "text": [
            "O mínimo está perto de -1.6534698176788387.\n",
            "O valor da função objetivo no mínimo é aproximandamente -0.7231882492091806.\n"
          ]
        },
        {
          "data": {
            "image/png": "[encoded data removed]",
            "text/plain": [
              "<Figure size 640x480 with 1 Axes>"
            ]
          },
          "metadata": {},
          "output_type": "display_data"
        }
      ],
      "source": [
        "# Esta célula faz o plot da função f em Omega para nvar 1 ou 2.\n",
        "# Para nvar=3 se desenha pontos em Omega com cores mais escuras onde a f tem valores menores e cores mais claras onde f tem valores maiores.\n",
        "# Com uma bolinha vermelha se marca o mínimo global de f em Omega\n",
        "# O mínimo global é mais preciso a medida que a variável npts assume valores maiores.\n",
        "\n",
        "# número de variáveis\n",
        "nvar = 1 # experimente valores 1, 2 ou 3\n",
        "\n",
        "# Omega = [a[0],b[0]]x...x[a[nvar-1],b[nvar-1]]\n",
        "a = np.zeros(nvar)\n",
        "b = np.zeros(nvar)\n",
        "for i in range(nvar):\n",
        "    a[i] = -2*np.pi\n",
        "    b[i] =  2*np.pi\n",
        "\n",
        "# número de pontos no segmento [a[i],b[i]]\n",
        "npts = 20\n",
        "\n",
        "if nvar == 1:\n",
        "    x = np.linspace(a[0], b[0], npts)\n",
        "    z = np.zeros_like(x)\n",
        "    for i in range(npts):\n",
        "        z[i] = f(np.array([x[i]]))\n",
        "    plt.plot(x, z)\n",
        "    j = np.argmin(z)\n",
        "    plt.plot(x[j], z[j], 'or')\n",
        "    print(f'O mínimo está perto de {x[j]}.')\n",
        "    print(f'O valor da função objetivo no mínimo é aproximandamente {z[j]}.')\n",
        "\n",
        "elif nvar == 2:\n",
        "    x1 = np.arange(a[0],b[0],(b[0]-a[0])/npts)\n",
        "    x2 = np.arange(a[1],b[1],(b[1]-a[1])/npts)\n",
        "    X1, X2 = np.meshgrid(x1,x2)\n",
        "    Z = np.zeros_like(X1)\n",
        "    for i in range(npts):\n",
        "        for j in range(npts):\n",
        "            v = np.array([X1[i,j],X2[i,j]])\n",
        "            Z[i,j] = f(v)\n",
        "    ax = plt.figure().add_subplot(projection='3d')\n",
        "    ax.plot_surface(X1, X2, Z)\n",
        "    i,j = np.unravel_index(Z.argmin(), Z.shape)\n",
        "    ax.scatter(X1[i,j], X2[i,j], np.array([[Z[i,j]]]), marker='o', color='red')\n",
        "    ax.view_init(elev=0, azim=20, roll=0)\n",
        "    print(f'O mínimo está perto de ({X1[i,j]}, {X2[i,j]}).')\n",
        "    print(f'O valor da função objetivo no mínimo é aproximandamente {Z[i,j]}.')\n",
        "\n",
        "elif nvar == 3:\n",
        "    x1 = np.arange(a[0],b[0],(b[0]-a[0])/npts)\n",
        "    x2 = np.arange(a[1],b[1],(b[1]-a[1])/npts)\n",
        "    x3 = np.arange(a[2],b[2],(b[2]-a[2])/npts)\n",
        "    X1, X2, X3 = np.meshgrid(x1, x2, x3)\n",
        "    Z = np.zeros_like(X1)\n",
        "    for i in range(npts):\n",
        "        for j in range(npts):\n",
        "            for k in range(npts):\n",
        "                v = np.array([X1[i,j,k], X2[i,j,k], X3[i,j,k]])\n",
        "                Z[i,j,k] = f(v)\n",
        "    x1 = X1.ravel()\n",
        "    x2 = X2.ravel()\n",
        "    x3 = X3.ravel()\n",
        "    z  = Z.ravel()\n",
        "    ax = plt.figure().add_subplot(projection='3d')\n",
        "    ax.scatter(x1, x2, x3, c=z, marker='.', cmap='viridis')\n",
        "    j = np.argmin(z)\n",
        "    ax.scatter(x1[j], x2[j], x3[j], marker='o', color='red')\n",
        "    print(f'O mínimo está perto de ({x1[j]}, {x2[j]}, {x3[j]}).')\n",
        "    print(f'O valor da função objetivo no mínimo é aproximandamente {z[j]}.')\n",
        "    ax.view_init(elev=0, azim=1, roll=0)"
      ]
    },
    {
      "cell_type": "markdown",
      "metadata": {
        "id": "A0G1MOz8YZKN"
      },
      "source": [
        "## 🧮 Função de decodificação"
      ]
    },
    {
      "cell_type": "code",
      "execution_count": 4,
      "metadata": {
        "id": "pS9Uiu3kLnj8"
      },
      "outputs": [],
      "source": [
        "def decode(chrom, a, b):\n",
        "    nvar = len(a)                 # número de variáveis do problema de otimização\n",
        "    ngen = len(chrom)             # número de bits em um cromossomo\n",
        "    nbit = ngen//nvar             # número de bits em uma variável\n",
        "\n",
        "    q = np.array([0.5**(i+1) for i in range(nbit)])\n",
        "    x = np.zeros(nvar)\n",
        "    for j in range(nvar):\n",
        "        w = chrom[j*nbit:(j+1)*nbit]\n",
        "        x_norm = np.dot(w,q)                # Etapa 1: conversão em número em base 2 para base 10\n",
        "        x[j] = (b[j]-a[j])*x_norm + a[j]    # Etapa 2: desfaz a normalização\n",
        "    return x\n",
        "\n",
        "fitness = lambda x: -f(decode(chrom, a, b))"
      ]
    },
    {
      "cell_type": "markdown",
      "metadata": {
        "id": "ETjwu5zOYiLc"
      },
      "source": [
        "## 🧫 Funções dos Operadores Genéticos"
      ]
    },
    {
      "cell_type": "code",
      "execution_count": 5,
      "metadata": {
        "id": "lQFX9qieMGPL"
      },
      "outputs": [],
      "source": [
        "def gen_pop(popsize, chromsize):\n",
        "  # Gera a população inicial com popsize cromossomos, cada um com chromsize bits.\n",
        "  population =[]\n",
        "  for _ in range(popsize):\n",
        "    # Gera um vetor de bits aleatórios\n",
        "    chrom = np.random.randint(0, 2, size = chromsize)\n",
        "    population.append(chrom)\n",
        "  return population"
      ]
    },
    {
      "cell_type": "code",
      "execution_count": 6,
      "metadata": {
        "id": "9SW4kh2GRXC1"
      },
      "outputs": [],
      "source": [
        "def empty_pop():\n",
        "  return []"
      ]
    },
    {
      "cell_type": "code",
      "execution_count": 7,
      "metadata": {
        "id": "dkADHE4aRYkU"
      },
      "outputs": [],
      "source": [
        "def select(population, fitness):\n",
        "  # Seleciona um cromossomo da população usando torneio.\n",
        "  c1, c2 = random.sample(population, 2)\n",
        "  return c1 if fitness(c1) > fitness(c2) else c2"
      ]
    },
    {
      "cell_type": "code",
      "execution_count": 8,
      "metadata": {
        "id": "jcBWgN9YRaHo"
      },
      "outputs": [],
      "source": [
        "def crossover(parent1, parent2, pcross):\n",
        "    if len(parent1) != len(parent2):\n",
        "        raise ValueError(\"Os cromossomos devem ter o mesmo tamanho para o crossover.\")\n",
        "\n",
        "    # Decide aleatoriamente se o crossover deve ocorrer\n",
        "    if random.random() < pcross:\n",
        "        crossover_point = random.randint(1, len(parent1) - 1)\n",
        "        offspring1 = np.concatenate((parent1[:crossover_point], parent2[crossover_point:]))\n",
        "        offspring2 = np.concatenate((parent2[:crossover_point], parent1[crossover_point:]))\n",
        "        return offspring1, offspring2\n",
        "    else:\n",
        "        # Se não ocorrer crossover, retorna os pais como estão\n",
        "        return np.copy(parent1), np.copy(parent2)"
      ]
    },
    {
      "cell_type": "code",
      "execution_count": 9,
      "metadata": {
        "id": "gbD_HUaKRbyZ"
      },
      "outputs": [],
      "source": [
        "def mutate(chrom, mutation_rate):\n",
        "    # Cria uma cópia do cromossomo para evitar modificar o original\n",
        "    mutated_chrom = np.copy(chrom)\n",
        "\n",
        "    # Itera sobre cada bit do cromossomo\n",
        "    for i in range(len(mutated_chrom)):\n",
        "        # Decide aleatoriamente se o bit deve ser mutado\n",
        "        if random.random() < mutation_rate:\n",
        "            # Inverte o bit\n",
        "            mutated_chrom[i] = 1 - mutated_chrom[i]  # Se for 0, torna-se 1 e vice-versa\n",
        "\n",
        "    return mutated_chrom"
      ]
    },
    {
      "cell_type": "code",
      "execution_count": 10,
      "metadata": {
        "id": "glQ8CaOTRdW7"
      },
      "outputs": [],
      "source": [
        "def add(chrom, population):\n",
        "  population.append(chrom)\n",
        "  return population"
      ]
    },
    {
      "cell_type": "markdown",
      "metadata": {
        "id": "-jAHnVNRYvoO"
      },
      "source": [
        "## 🏗️ Função princial do Algoritmo Genético"
      ]
    },
    {
      "cell_type": "code",
      "execution_count": 11,
      "metadata": {
        "id": "TGIMRO4YM5ii"
      },
      "outputs": [],
      "source": [
        "def ga(fitness, pcross, pmut, popsize, chromsize, maxgen):\n",
        "    pop = gen_pop(popsize, chromsize)\n",
        "    for _ in range(maxgen):\n",
        "        newpop = empty_pop()\n",
        "        for _ in range(popsize):\n",
        "            c1 = select(pop, fitness)\n",
        "            c2 = select(pop, fitness)\n",
        "            c12, c21 = crossover(c1, c2, pcross)\n",
        "            c121 = mutate(c12, pmut)\n",
        "            c212 = mutate(c21, pmut)\n",
        "            newpop = add(c121,newpop)\n",
        "            newpop = add(c212,newpop)\n",
        "        pop = newpop\n",
        "    return pop"
      ]
    },
    {
      "cell_type": "markdown",
      "metadata": {
        "id": "HokwoO2eaJaF"
      },
      "source": [
        "## 📐 Definindo valores para minimização da função"
      ]
    },
    {
      "cell_type": "code",
      "execution_count": 12,
      "metadata": {
        "id": "J6B1GvNtZkY8"
      },
      "outputs": [],
      "source": [
        "# Como queremos minimizar f(x), usamos -f(x) para que a função ga maximize a fitness.\n",
        "# A função fitness recebe um cromossomo, decodifica ele e retorna -f(x)\n",
        "nvar = 1  # ou 2, ou 3, conforme o problema\n",
        "a = -2 * np.pi * np.ones(nvar)\n",
        "b =  2 * np.pi * np.ones(nvar)\n",
        "fitness = lambda chrom: -f(decode(chrom, a, b))\n",
        "\n",
        "# Parâmetros do GA\n",
        "popsize = 50 # Tamanho da população\n",
        "nbit = 10 # Bits por variável\n",
        "chromsize = nvar * nbit\n",
        "pcross = 0.7 # Probabilidade de crossover\n",
        "pmut = 0.01 # Probabilidade de mutação para cada bit\n",
        "maxgen = 100 # Número de gerações\n",
        "\n",
        "final_pop = ga(fitness, pcross, pmut, popsize, chromsize, maxgen)"
      ]
    },
    {
      "cell_type": "markdown",
      "metadata": {
        "id": "Syj-12agaTIV"
      },
      "source": [
        "## 🎖️ Por fim, encontrando o melhor resultado"
      ]
    },
    {
      "cell_type": "code",
      "execution_count": 13,
      "metadata": {
        "colab": {
          "base_uri": "https://localhost:8080/"
        },
        "id": "AFVGV2GgaBhp",
        "outputId": "ecb630a4-31d4-4c44-e8a6-5bd28a4e69b5"
      },
      "outputs": [
        {
          "name": "stdout",
          "output_type": "stream",
          "text": [
            "Melhor solução encontrada: [-1.39899048]\n",
            "Valor de f(x) na solução: -0.7560946568910832\n"
          ]
        }
      ],
      "source": [
        "# Seleciona o melhor cromossomo da população final\n",
        "best = final_pop[0]\n",
        "best_fit = fitness(best)\n",
        "for chrom in final_pop:\n",
        "    if fitness(chrom) > best_fit:\n",
        "        best = chrom\n",
        "        best_fit = fitness(chrom)\n",
        "\n",
        "# Decodifica o melhor cromossomo para obter a solução real\n",
        "best_x = decode(best, a, b)\n",
        "print(\"Melhor solução encontrada:\", best_x)\n",
        "print(\"Valor de f(x) na solução:\", f(best_x))"
      ]
    }
  ],
  "metadata": {
    "colab": {
      "provenance": []
    },
    "kernelspec": {
      "display_name": "Python 3",
      "name": "python3"
    },
    "language_info": {
      "codemirror_mode": {
        "name": "ipython",
        "version": 3
      },
      "file_extension": ".py",
      "mimetype": "text/x-python",
      "name": "python",
      "nbconvert_exporter": "python",
      "pygments_lexer": "ipython3",
      "version": "3.12.1"
    }
  },
  "nbformat": 4,
  "nbformat_minor": 0
}
